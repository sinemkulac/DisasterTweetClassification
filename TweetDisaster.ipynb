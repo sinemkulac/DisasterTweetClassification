{
 "cells": [
  {
   "cell_type": "code",
   "execution_count": 27,
   "metadata": {},
   "outputs": [],
   "source": [
    "import numpy as np  \n",
    "\n",
    "import re  \n",
    "import pandas as pd \n",
    "from keras.preprocessing.text import Tokenizer \n",
    "from keras.preprocessing.sequence import pad_sequences\n",
    "from nltk.corpus import stopwords   \n",
    "\n",
    "import warnings\n",
    "warnings.filterwarnings(\"ignore\")"
   ]
  },
  {
   "cell_type": "code",
   "execution_count": 28,
   "metadata": {},
   "outputs": [],
   "source": [
    "import nltk"
   ]
  },
  {
   "cell_type": "code",
   "execution_count": 29,
   "metadata": {},
   "outputs": [],
   "source": [
    "stop_words = set(stopwords.words('english')) "
   ]
  },
  {
   "cell_type": "code",
   "execution_count": 30,
   "metadata": {},
   "outputs": [],
   "source": [
    "import pandas as pd\n",
    "import numpy as np\n",
    "from sklearn.linear_model import LogisticRegression\n",
    "from sklearn.model_selection import train_test_split\n",
    "from sklearn import metrics\n",
    "\n",
    "data=pd.read_csv(\"E:/user/Notebooks/data/tweetdisaster/train.csv\", low_memory=False)"
   ]
  },
  {
   "cell_type": "code",
   "execution_count": 31,
   "metadata": {},
   "outputs": [],
   "source": [
    "data.drop_duplicates(subset=['text'],inplace=True)  #dropping duplicates\n",
    "data.dropna(axis=0,inplace=True)   #dropping na"
   ]
  },
  {
   "cell_type": "code",
   "execution_count": 32,
   "metadata": {},
   "outputs": [
    {
     "data": {
      "text/html": [
       "<div>\n",
       "<style scoped>\n",
       "    .dataframe tbody tr th:only-of-type {\n",
       "        vertical-align: middle;\n",
       "    }\n",
       "\n",
       "    .dataframe tbody tr th {\n",
       "        vertical-align: top;\n",
       "    }\n",
       "\n",
       "    .dataframe thead th {\n",
       "        text-align: right;\n",
       "    }\n",
       "</style>\n",
       "<table border=\"1\" class=\"dataframe\">\n",
       "  <thead>\n",
       "    <tr style=\"text-align: right;\">\n",
       "      <th></th>\n",
       "      <th>id</th>\n",
       "      <th>keyword</th>\n",
       "      <th>location</th>\n",
       "      <th>text</th>\n",
       "      <th>target</th>\n",
       "    </tr>\n",
       "  </thead>\n",
       "  <tbody>\n",
       "    <tr>\n",
       "      <th>31</th>\n",
       "      <td>48</td>\n",
       "      <td>ablaze</td>\n",
       "      <td>Birmingham</td>\n",
       "      <td>@bbcmtd Wholesale Markets ablaze http://t.co/l...</td>\n",
       "      <td>1</td>\n",
       "    </tr>\n",
       "    <tr>\n",
       "      <th>32</th>\n",
       "      <td>49</td>\n",
       "      <td>ablaze</td>\n",
       "      <td>Est. September 2012 - Bristol</td>\n",
       "      <td>We always try to bring the heavy. #metal #RT h...</td>\n",
       "      <td>0</td>\n",
       "    </tr>\n",
       "    <tr>\n",
       "      <th>33</th>\n",
       "      <td>50</td>\n",
       "      <td>ablaze</td>\n",
       "      <td>AFRICA</td>\n",
       "      <td>#AFRICANBAZE: Breaking news:Nigeria flag set a...</td>\n",
       "      <td>1</td>\n",
       "    </tr>\n",
       "    <tr>\n",
       "      <th>34</th>\n",
       "      <td>52</td>\n",
       "      <td>ablaze</td>\n",
       "      <td>Philadelphia, PA</td>\n",
       "      <td>Crying out for more! Set me ablaze</td>\n",
       "      <td>0</td>\n",
       "    </tr>\n",
       "    <tr>\n",
       "      <th>35</th>\n",
       "      <td>53</td>\n",
       "      <td>ablaze</td>\n",
       "      <td>London, UK</td>\n",
       "      <td>On plus side LOOK AT THE SKY LAST NIGHT IT WAS...</td>\n",
       "      <td>0</td>\n",
       "    </tr>\n",
       "  </tbody>\n",
       "</table>\n",
       "</div>"
      ],
      "text/plain": [
       "    id keyword                       location  \\\n",
       "31  48  ablaze                     Birmingham   \n",
       "32  49  ablaze  Est. September 2012 - Bristol   \n",
       "33  50  ablaze                         AFRICA   \n",
       "34  52  ablaze               Philadelphia, PA   \n",
       "35  53  ablaze                     London, UK   \n",
       "\n",
       "                                                 text  target  \n",
       "31  @bbcmtd Wholesale Markets ablaze http://t.co/l...       1  \n",
       "32  We always try to bring the heavy. #metal #RT h...       0  \n",
       "33  #AFRICANBAZE: Breaking news:Nigeria flag set a...       1  \n",
       "34                 Crying out for more! Set me ablaze       0  \n",
       "35  On plus side LOOK AT THE SKY LAST NIGHT IT WAS...       0  "
      ]
     },
     "execution_count": 32,
     "metadata": {},
     "output_type": "execute_result"
    }
   ],
   "source": [
    "data.head()"
   ]
  },
  {
   "cell_type": "code",
   "execution_count": 33,
   "metadata": {},
   "outputs": [
    {
     "data": {
      "image/png": "[encoded data removed]",
      "text/plain": [
       "<Figure size 432x288 with 1 Axes>"
      ]
     },
     "metadata": {
      "needs_background": "light"
     },
     "output_type": "display_data"
    }
   ],
   "source": [
    "import matplotlib.pyplot as plt\n",
    "import seaborn as sns\n",
    "x=data.target.value_counts()\n",
    "sns.barplot(x.index,x)\n",
    "plt.gca().set_ylabel('samples');"
   ]
  },
  {
   "cell_type": "markdown",
   "metadata": {},
   "source": [
    "0 olan tweet daha fazla yani sahte felaket haberleri çoğunlukta"
   ]
  },
  {
   "cell_type": "code",
   "execution_count": 34,
   "metadata": {},
   "outputs": [
    {
     "data": {
      "image/png": "[encoded data removed]",
      "text/plain": [
       "<Figure size 720x360 with 2 Axes>"
      ]
     },
     "metadata": {
      "needs_background": "light"
     },
     "output_type": "display_data"
    }
   ],
   "source": [
    "fig,(ax1,ax2)=plt.subplots(1,2,figsize=(10,5))\n",
    "tweet_len=data[data['target']==1]['text'].str.len()\n",
    "ax1.hist(tweet_len,color='red')\n",
    "ax1.set_title('disaster tweets')\n",
    "tweet_len=data[data['target']==0]['text'].str.len()\n",
    "ax2.hist(tweet_len,color='green')\n",
    "ax2.set_title('Not disaster tweets')\n",
    "fig.suptitle('Characters in tweets')\n",
    "plt.show()"
   ]
  },
  {
   "cell_type": "code",
   "execution_count": 35,
   "metadata": {},
   "outputs": [],
   "source": [
    "contraction_mapping = {\"ain't\": \"is not\", \"aren't\": \"are not\",\"can't\": \"cannot\", \"'cause\": \"because\", \"could've\": \"could have\", \"couldn't\": \"could not\",\n",
    "\n",
    "                           \"didn't\": \"did not\", \"doesn't\": \"does not\", \"don't\": \"do not\", \"hadn't\": \"had not\", \"hasn't\": \"has not\", \"haven't\": \"have not\",\n",
    "\n",
    "                           \"he'd\": \"he would\",\"he'll\": \"he will\", \"he's\": \"he is\", \"how'd\": \"how did\", \"how'd'y\": \"how do you\", \"how'll\": \"how will\", \"how's\": \"how is\",\n",
    "\n",
    "                           \"I'd\": \"I would\", \"I'd've\": \"I would have\", \"I'll\": \"I will\", \"I'll've\": \"I will have\",\"I'm\": \"I am\", \"I've\": \"I have\", \"i'd\": \"i would\",\n",
    "\n",
    "                           \"i'd've\": \"i would have\", \"i'll\": \"i will\",  \"i'll've\": \"i will have\",\"i'm\": \"i am\", \"i've\": \"i have\", \"isn't\": \"is not\", \"it'd\": \"it would\",\n",
    "\n",
    "                           \"it'd've\": \"it would have\", \"it'll\": \"it will\", \"it'll've\": \"it will have\",\"it's\": \"it is\", \"let's\": \"let us\", \"ma'am\": \"madam\",\n",
    "\n",
    "                           \"mayn't\": \"may not\", \"might've\": \"might have\",\"mightn't\": \"might not\",\"mightn't've\": \"might not have\", \"must've\": \"must have\",\n",
    "\n",
    "                           \"mustn't\": \"must not\", \"mustn't've\": \"must not have\", \"needn't\": \"need not\", \"needn't've\": \"need not have\",\"o'clock\": \"of the clock\",\n",
    "\n",
    "                           \"oughtn't\": \"ought not\", \"oughtn't've\": \"ought not have\", \"shan't\": \"shall not\", \"sha'n't\": \"shall not\", \"shan't've\": \"shall not have\",\n",
    "\n",
    "                           \"she'd\": \"she would\", \"she'd've\": \"she would have\", \"she'll\": \"she will\", \"she'll've\": \"she will have\", \"she's\": \"she is\",\n",
    "\n",
    "                           \"should've\": \"should have\", \"shouldn't\": \"should not\", \"shouldn't've\": \"should not have\", \"so've\": \"so have\",\"so's\": \"so as\",\n",
    "\n",
    "                           \"this's\": \"this is\",\"that'd\": \"that would\", \"that'd've\": \"that would have\", \"that's\": \"that is\", \"there'd\": \"there would\",\n",
    "\n",
    "                           \"there'd've\": \"there would have\", \"there's\": \"there is\", \"here's\": \"here is\",\"they'd\": \"they would\", \"they'd've\": \"they would have\",\n",
    "\n",
    "                           \"they'll\": \"they will\", \"they'll've\": \"they will have\", \"they're\": \"they are\", \"they've\": \"they have\", \"to've\": \"to have\",\n",
    "\n",
    "                           \"wasn't\": \"was not\", \"we'd\": \"we would\", \"we'd've\": \"we would have\", \"we'll\": \"we will\", \"we'll've\": \"we will have\", \"we're\": \"we are\",\n",
    "\n",
    "                           \"we've\": \"we have\", \"weren't\": \"were not\", \"what'll\": \"what will\", \"what'll've\": \"what will have\", \"what're\": \"what are\",\n",
    "\n",
    "                           \"what's\": \"what is\", \"what've\": \"what have\", \"when's\": \"when is\", \"when've\": \"when have\", \"where'd\": \"where did\", \"where's\": \"where is\",\n",
    "\n",
    "                           \"where've\": \"where have\", \"who'll\": \"who will\", \"who'll've\": \"who will have\", \"who's\": \"who is\", \"who've\": \"who have\",\n",
    "\n",
    "                           \"why's\": \"why is\", \"why've\": \"why have\", \"will've\": \"will have\", \"won't\": \"will not\", \"won't've\": \"will not have\",\n",
    "\n",
    "                           \"would've\": \"would have\", \"wouldn't\": \"would not\", \"wouldn't've\": \"would not have\", \"y'all\": \"you all\",\n",
    "\n",
    "                           \"y'all'd\": \"you all would\",\"y'all'd've\": \"you all would have\",\"y'all're\": \"you all are\",\"y'all've\": \"you all have\",\n",
    "\n",
    "                           \"you'd\": \"you would\", \"you'd've\": \"you would have\", \"you'll\": \"you will\", \"you'll've\": \"you will have\",\n",
    "\n",
    "                           \"you're\": \"you are\", \"you've\": \"you have\"}"
   ]
  },
  {
   "cell_type": "code",
   "execution_count": 36,
   "metadata": {},
   "outputs": [],
   "source": [
    "from bs4 import BeautifulSoup\n",
    "porter = nltk.PorterStemmer()\n",
    "def text_cleaner(text):\n",
    "    newString = text.lower()\n",
    "    newString = BeautifulSoup(newString, \"lxml\").text\n",
    "    newString = re.sub(r'https?://\\S+|www\\.\\S+','',newString)\n",
    "    newString=re.sub(r'<.*?>','',newString)                   \n",
    "    newString = re.sub(r'\\([^)]*\\)', '', newString)\n",
    "    newString = re.sub('\"','', newString)\n",
    "    newString = ' '.join([contraction_mapping[t] if t in contraction_mapping else t for t in newString.split(\" \")])    \n",
    "    newString = re.sub(r\"'s\\b\",\"\",newString)\n",
    "    newString = re.sub(\"[^a-zA-Z]\", \" \", newString) \n",
    "     \n",
    "    tokens = [porter.stem(w)  for w in newString.split() if not w in stop_words]\n",
    "    long_words=[]\n",
    "    for i in tokens:\n",
    "        if len(i)>=3:                  #removing short word\n",
    "            long_words.append(i)   \n",
    "    return (\" \".join(long_words)).strip()\n",
    "   \n",
    "cleaned_text = []\n",
    "for t in data['text']:\n",
    "    cleaned_text.append(text_cleaner(t))"
   ]
  },
  {
   "cell_type": "code",
   "execution_count": 37,
   "metadata": {},
   "outputs": [
    {
     "data": {
      "text/plain": [
       "31    @bbcmtd Wholesale Markets ablaze http://t.co/l...\n",
       "32    We always try to bring the heavy. #metal #RT h...\n",
       "33    #AFRICANBAZE: Breaking news:Nigeria flag set a...\n",
       "34                   Crying out for more! Set me ablaze\n",
       "35    On plus side LOOK AT THE SKY LAST NIGHT IT WAS...\n",
       "Name: text, dtype: object"
      ]
     },
     "execution_count": 37,
     "metadata": {},
     "output_type": "execute_result"
    }
   ],
   "source": [
    "data.text[:5]"
   ]
  },
  {
   "cell_type": "code",
   "execution_count": 38,
   "metadata": {},
   "outputs": [
    {
     "data": {
      "text/html": [
       "<div>\n",
       "<style scoped>\n",
       "    .dataframe tbody tr th:only-of-type {\n",
       "        vertical-align: middle;\n",
       "    }\n",
       "\n",
       "    .dataframe tbody tr th {\n",
       "        vertical-align: top;\n",
       "    }\n",
       "\n",
       "    .dataframe thead th {\n",
       "        text-align: right;\n",
       "    }\n",
       "</style>\n",
       "<table border=\"1\" class=\"dataframe\">\n",
       "  <thead>\n",
       "    <tr style=\"text-align: right;\">\n",
       "      <th></th>\n",
       "      <th>id</th>\n",
       "      <th>keyword</th>\n",
       "      <th>location</th>\n",
       "      <th>text</th>\n",
       "      <th>target</th>\n",
       "    </tr>\n",
       "  </thead>\n",
       "  <tbody>\n",
       "    <tr>\n",
       "      <th>31</th>\n",
       "      <td>48</td>\n",
       "      <td>ablaze</td>\n",
       "      <td>Birmingham</td>\n",
       "      <td>@bbcmtd Wholesale Markets ablaze http://t.co/l...</td>\n",
       "      <td>1</td>\n",
       "    </tr>\n",
       "    <tr>\n",
       "      <th>32</th>\n",
       "      <td>49</td>\n",
       "      <td>ablaze</td>\n",
       "      <td>Est. September 2012 - Bristol</td>\n",
       "      <td>We always try to bring the heavy. #metal #RT h...</td>\n",
       "      <td>0</td>\n",
       "    </tr>\n",
       "    <tr>\n",
       "      <th>33</th>\n",
       "      <td>50</td>\n",
       "      <td>ablaze</td>\n",
       "      <td>AFRICA</td>\n",
       "      <td>#AFRICANBAZE: Breaking news:Nigeria flag set a...</td>\n",
       "      <td>1</td>\n",
       "    </tr>\n",
       "    <tr>\n",
       "      <th>34</th>\n",
       "      <td>52</td>\n",
       "      <td>ablaze</td>\n",
       "      <td>Philadelphia, PA</td>\n",
       "      <td>Crying out for more! Set me ablaze</td>\n",
       "      <td>0</td>\n",
       "    </tr>\n",
       "    <tr>\n",
       "      <th>35</th>\n",
       "      <td>53</td>\n",
       "      <td>ablaze</td>\n",
       "      <td>London, UK</td>\n",
       "      <td>On plus side LOOK AT THE SKY LAST NIGHT IT WAS...</td>\n",
       "      <td>0</td>\n",
       "    </tr>\n",
       "  </tbody>\n",
       "</table>\n",
       "</div>"
      ],
      "text/plain": [
       "    id keyword                       location  \\\n",
       "31  48  ablaze                     Birmingham   \n",
       "32  49  ablaze  Est. September 2012 - Bristol   \n",
       "33  50  ablaze                         AFRICA   \n",
       "34  52  ablaze               Philadelphia, PA   \n",
       "35  53  ablaze                     London, UK   \n",
       "\n",
       "                                                 text  target  \n",
       "31  @bbcmtd Wholesale Markets ablaze http://t.co/l...       1  \n",
       "32  We always try to bring the heavy. #metal #RT h...       0  \n",
       "33  #AFRICANBAZE: Breaking news:Nigeria flag set a...       1  \n",
       "34                 Crying out for more! Set me ablaze       0  \n",
       "35  On plus side LOOK AT THE SKY LAST NIGHT IT WAS...       0  "
      ]
     },
     "execution_count": 38,
     "metadata": {},
     "output_type": "execute_result"
    }
   ],
   "source": [
    "data.head()"
   ]
  },
  {
   "cell_type": "code",
   "execution_count": 39,
   "metadata": {},
   "outputs": [],
   "source": [
    "data['cleaned_text']=cleaned_text"
   ]
  },
  {
   "cell_type": "code",
   "execution_count": 40,
   "metadata": {},
   "outputs": [
    {
     "data": {
      "text/html": [
       "<div>\n",
       "<style scoped>\n",
       "    .dataframe tbody tr th:only-of-type {\n",
       "        vertical-align: middle;\n",
       "    }\n",
       "\n",
       "    .dataframe tbody tr th {\n",
       "        vertical-align: top;\n",
       "    }\n",
       "\n",
       "    .dataframe thead th {\n",
       "        text-align: right;\n",
       "    }\n",
       "</style>\n",
       "<table border=\"1\" class=\"dataframe\">\n",
       "  <thead>\n",
       "    <tr style=\"text-align: right;\">\n",
       "      <th></th>\n",
       "      <th>id</th>\n",
       "      <th>keyword</th>\n",
       "      <th>location</th>\n",
       "      <th>text</th>\n",
       "      <th>target</th>\n",
       "      <th>cleaned_text</th>\n",
       "    </tr>\n",
       "  </thead>\n",
       "  <tbody>\n",
       "    <tr>\n",
       "      <th>53</th>\n",
       "      <td>77</td>\n",
       "      <td>ablaze</td>\n",
       "      <td>Anaheim</td>\n",
       "      <td>Police: Arsonist Deliberately Set Black Church...</td>\n",
       "      <td>1</td>\n",
       "      <td>polic arsonist deliber set black church north ...</td>\n",
       "    </tr>\n",
       "    <tr>\n",
       "      <th>54</th>\n",
       "      <td>78</td>\n",
       "      <td>ablaze</td>\n",
       "      <td>Abuja</td>\n",
       "      <td>Noches El-Bestia '@Alexis_Sanchez: happy to se...</td>\n",
       "      <td>0</td>\n",
       "      <td>noch bestia alexi sanchez happi see teammat tr...</td>\n",
       "    </tr>\n",
       "    <tr>\n",
       "      <th>55</th>\n",
       "      <td>79</td>\n",
       "      <td>ablaze</td>\n",
       "      <td>USA</td>\n",
       "      <td>#Kurds trampling on Turkmen flag later set it ...</td>\n",
       "      <td>1</td>\n",
       "      <td>kurd trampl turkmen flag later set ablaz other...</td>\n",
       "    </tr>\n",
       "    <tr>\n",
       "      <th>56</th>\n",
       "      <td>80</td>\n",
       "      <td>ablaze</td>\n",
       "      <td>South Africa</td>\n",
       "      <td>TRUCK ABLAZE : R21. VOORTREKKER AVE. OUTSIDE O...</td>\n",
       "      <td>1</td>\n",
       "      <td>truck ablaz voortrekk ave outsid tambo intl ca...</td>\n",
       "    </tr>\n",
       "    <tr>\n",
       "      <th>57</th>\n",
       "      <td>81</td>\n",
       "      <td>ablaze</td>\n",
       "      <td>Sao Paulo, Brazil</td>\n",
       "      <td>Set our hearts ablaze and every city was a gif...</td>\n",
       "      <td>0</td>\n",
       "      <td>set heart ablaz everi citi gift everi skylin l...</td>\n",
       "    </tr>\n",
       "    <tr>\n",
       "      <th>58</th>\n",
       "      <td>82</td>\n",
       "      <td>ablaze</td>\n",
       "      <td>hollywoodland</td>\n",
       "      <td>They sky was ablaze tonight in Los Angeles. I'...</td>\n",
       "      <td>0</td>\n",
       "      <td>sky ablaz tonight angel expect fill sunset sho...</td>\n",
       "    </tr>\n",
       "    <tr>\n",
       "      <th>59</th>\n",
       "      <td>83</td>\n",
       "      <td>ablaze</td>\n",
       "      <td>Edmonton, Alberta - Treaty 6</td>\n",
       "      <td>How the West was burned: Thousands of wildfire...</td>\n",
       "      <td>1</td>\n",
       "      <td>west burn thousand wildfir ablaz california al...</td>\n",
       "    </tr>\n",
       "    <tr>\n",
       "      <th>61</th>\n",
       "      <td>86</td>\n",
       "      <td>ablaze</td>\n",
       "      <td>Inang Pamantasan</td>\n",
       "      <td>Progressive greetings!\\n\\nIn about a month stu...</td>\n",
       "      <td>0</td>\n",
       "      <td>progress greet month student would set pen abl...</td>\n",
       "    </tr>\n",
       "    <tr>\n",
       "      <th>62</th>\n",
       "      <td>89</td>\n",
       "      <td>ablaze</td>\n",
       "      <td>Twitter Lockout in progress</td>\n",
       "      <td>Rene Ablaze &amp;amp; Jacinta - Secret 2k13 (Falle...</td>\n",
       "      <td>0</td>\n",
       "      <td>rene ablaz jacinta secret mar</td>\n",
       "    </tr>\n",
       "    <tr>\n",
       "      <th>63</th>\n",
       "      <td>91</td>\n",
       "      <td>ablaze</td>\n",
       "      <td>Concord, CA</td>\n",
       "      <td>@Navista7 Steve these fires out here are somet...</td>\n",
       "      <td>1</td>\n",
       "      <td>navista steve fire someth els california tinde...</td>\n",
       "    </tr>\n",
       "    <tr>\n",
       "      <th>64</th>\n",
       "      <td>92</td>\n",
       "      <td>ablaze</td>\n",
       "      <td>Calgary, AB</td>\n",
       "      <td>#NowPlaying: Rene Ablaze &amp;amp; Ian Buff - Magn...</td>\n",
       "      <td>0</td>\n",
       "      <td>nowplay rene ablaz ian buff magnitud edm</td>\n",
       "    </tr>\n",
       "    <tr>\n",
       "      <th>65</th>\n",
       "      <td>93</td>\n",
       "      <td>ablaze</td>\n",
       "      <td>Birmingham</td>\n",
       "      <td>@nxwestmidlands huge fire at Wholesale markets...</td>\n",
       "      <td>1</td>\n",
       "      <td>nxwestmidland huge fire wholesal market ablaz</td>\n",
       "    </tr>\n",
       "    <tr>\n",
       "      <th>66</th>\n",
       "      <td>95</td>\n",
       "      <td>ablaze</td>\n",
       "      <td>San Francisco</td>\n",
       "      <td>@ablaze what time does your talk go until? I d...</td>\n",
       "      <td>0</td>\n",
       "      <td>ablaz time talk know make due work</td>\n",
       "    </tr>\n",
       "    <tr>\n",
       "      <th>67</th>\n",
       "      <td>96</td>\n",
       "      <td>accident</td>\n",
       "      <td>CLVLND</td>\n",
       "      <td>'I can't have kids cuz I got in a bicycle acci...</td>\n",
       "      <td>0</td>\n",
       "      <td>cannot kid cuz got bicycl accid split testicl ...</td>\n",
       "    </tr>\n",
       "    <tr>\n",
       "      <th>68</th>\n",
       "      <td>97</td>\n",
       "      <td>accident</td>\n",
       "      <td>Nashville, TN</td>\n",
       "      <td>Accident on I-24 W #NashvilleTraffic. Traffic ...</td>\n",
       "      <td>1</td>\n",
       "      <td>accid nashvilletraff traffic move slower usual</td>\n",
       "    </tr>\n",
       "  </tbody>\n",
       "</table>\n",
       "</div>"
      ],
      "text/plain": [
       "    id   keyword                      location  \\\n",
       "53  77    ablaze                       Anaheim   \n",
       "54  78    ablaze                         Abuja   \n",
       "55  79    ablaze                           USA   \n",
       "56  80    ablaze                  South Africa   \n",
       "57  81    ablaze             Sao Paulo, Brazil   \n",
       "58  82    ablaze                hollywoodland    \n",
       "59  83    ablaze  Edmonton, Alberta - Treaty 6   \n",
       "61  86    ablaze              Inang Pamantasan   \n",
       "62  89    ablaze   Twitter Lockout in progress   \n",
       "63  91    ablaze                   Concord, CA   \n",
       "64  92    ablaze                   Calgary, AB   \n",
       "65  93    ablaze                    Birmingham   \n",
       "66  95    ablaze                 San Francisco   \n",
       "67  96  accident                        CLVLND   \n",
       "68  97  accident                 Nashville, TN   \n",
       "\n",
       "                                                 text  target  \\\n",
       "53  Police: Arsonist Deliberately Set Black Church...       1   \n",
       "54  Noches El-Bestia '@Alexis_Sanchez: happy to se...       0   \n",
       "55  #Kurds trampling on Turkmen flag later set it ...       1   \n",
       "56  TRUCK ABLAZE : R21. VOORTREKKER AVE. OUTSIDE O...       1   \n",
       "57  Set our hearts ablaze and every city was a gif...       0   \n",
       "58  They sky was ablaze tonight in Los Angeles. I'...       0   \n",
       "59  How the West was burned: Thousands of wildfire...       1   \n",
       "61  Progressive greetings!\\n\\nIn about a month stu...       0   \n",
       "62  Rene Ablaze &amp; Jacinta - Secret 2k13 (Falle...       0   \n",
       "63  @Navista7 Steve these fires out here are somet...       1   \n",
       "64  #NowPlaying: Rene Ablaze &amp; Ian Buff - Magn...       0   \n",
       "65  @nxwestmidlands huge fire at Wholesale markets...       1   \n",
       "66  @ablaze what time does your talk go until? I d...       0   \n",
       "67  'I can't have kids cuz I got in a bicycle acci...       0   \n",
       "68  Accident on I-24 W #NashvilleTraffic. Traffic ...       1   \n",
       "\n",
       "                                         cleaned_text  \n",
       "53  polic arsonist deliber set black church north ...  \n",
       "54  noch bestia alexi sanchez happi see teammat tr...  \n",
       "55  kurd trampl turkmen flag later set ablaz other...  \n",
       "56  truck ablaz voortrekk ave outsid tambo intl ca...  \n",
       "57  set heart ablaz everi citi gift everi skylin l...  \n",
       "58  sky ablaz tonight angel expect fill sunset sho...  \n",
       "59  west burn thousand wildfir ablaz california al...  \n",
       "61  progress greet month student would set pen abl...  \n",
       "62                      rene ablaz jacinta secret mar  \n",
       "63  navista steve fire someth els california tinde...  \n",
       "64           nowplay rene ablaz ian buff magnitud edm  \n",
       "65      nxwestmidland huge fire wholesal market ablaz  \n",
       "66                 ablaz time talk know make due work  \n",
       "67  cannot kid cuz got bicycl accid split testicl ...  \n",
       "68     accid nashvilletraff traffic move slower usual  "
      ]
     },
     "execution_count": 40,
     "metadata": {},
     "output_type": "execute_result"
    }
   ],
   "source": [
    "data[15:30]"
   ]
  },
  {
   "cell_type": "code",
   "execution_count": 41,
   "metadata": {},
   "outputs": [],
   "source": [
    "from sklearn.feature_extraction.text import CountVectorizer\n",
    "\n",
    "\n",
    "vectorizer = CountVectorizer() \n",
    "\n",
    "#vectorizer.fit(cleaned_text)\n",
    "#train_predictions = np.round(self.model.predict(self.X_train, verbose=0)) \n",
    "X = vectorizer.fit_transform(cleaned_text).toarray()"
   ]
  },
  {
   "cell_type": "code",
   "execution_count": 42,
   "metadata": {},
   "outputs": [
    {
     "data": {
      "text/plain": [
       "(5021, 9939)"
      ]
     },
     "execution_count": 42,
     "metadata": {},
     "output_type": "execute_result"
    }
   ],
   "source": [
    "X.shape"
   ]
  },
  {
   "cell_type": "code",
   "execution_count": 47,
   "metadata": {},
   "outputs": [],
   "source": [
    "from sklearn.model_selection import train_test_split\n",
    "X_train, X_test, y_train, y_test=train_test_split(X,data['target'].values,test_size=0.1,random_state=0,shuffle=True) "
   ]
  },
  {
   "cell_type": "code",
   "execution_count": 48,
   "metadata": {},
   "outputs": [
    {
     "data": {
      "text/plain": [
       "array([[0, 0, 0, ..., 0, 0, 0],\n",
       "       [0, 0, 0, ..., 0, 0, 0],\n",
       "       [0, 0, 0, ..., 0, 0, 0],\n",
       "       ...,\n",
       "       [0, 0, 0, ..., 0, 0, 0],\n",
       "       [0, 0, 0, ..., 0, 0, 0],\n",
       "       [0, 0, 0, ..., 0, 0, 0]], dtype=int64)"
      ]
     },
     "execution_count": 48,
     "metadata": {},
     "output_type": "execute_result"
    }
   ],
   "source": [
    "X_train"
   ]
  },
  {
   "cell_type": "code",
   "execution_count": 45,
   "metadata": {},
   "outputs": [],
   "source": [
    "from collections import defaultdict\n",
    "from wordcloud import STOPWORDS\n",
    "\n",
    "def generate_ngrams(text, n_gram=1):\n",
    "    token = [token for token in text.lower().split(' ') if token != '' if token not in STOPWORDS]\n",
    "    ngrams = zip(*[token[i:] for i in range(n_gram)])\n",
    "    return [' '.join(ngram) for ngram in ngrams]\n",
    "\n",
    "N = 20\n",
    "DISASTER_TWEETS = data['target'] == 1\n",
    "# Unigrams\n",
    "disaster_unigrams = defaultdict(int)\n",
    "nondisaster_unigrams = defaultdict(int)\n",
    "\n",
    "for tweet in data[DISASTER_TWEETS]['cleaned_text']:\n",
    "    for word in generate_ngrams(tweet):\n",
    "        disaster_unigrams[word] += 1\n",
    "        \n",
    "for tweet in data[~DISASTER_TWEETS]['cleaned_text']:\n",
    "    for word in generate_ngrams(tweet):\n",
    "        nondisaster_unigrams[word] += 1\n",
    "        \n",
    "df_disaster_unigrams = pd.DataFrame(sorted(disaster_unigrams.items(), key=lambda x: x[1])[::-1])\n",
    "df_nondisaster_unigrams = pd.DataFrame(sorted(nondisaster_unigrams.items(), key=lambda x: x[1])[::-1])"
   ]
  },
  {
   "cell_type": "code",
   "execution_count": 46,
   "metadata": {},
   "outputs": [
    {
     "data": {
      "image/png": "[encoded data removed]",
      "text/plain": [
       "<Figure size 800x400 with 2 Axes>"
      ]
     },
     "metadata": {
      "needs_background": "light"
     },
     "output_type": "display_data"
    }
   ],
   "source": [
    "fig, axes = plt.subplots(ncols=2, figsize=(16, 8), dpi=50)\n",
    "plt.tight_layout()\n",
    "\n",
    "sns.barplot(y=df_disaster_unigrams[0].values[:N], x=df_disaster_unigrams[1].values[:N], ax=axes[0], color='red')\n",
    "sns.barplot(y=df_nondisaster_unigrams[0].values[:N], x=df_nondisaster_unigrams[1].values[:N], ax=axes[1], color='green')\n",
    "\n",
    "for i in range(2):\n",
    "    axes[i].spines['right'].set_visible(False)\n",
    "    axes[i].set_xlabel('')\n",
    "    axes[i].set_ylabel('')\n",
    "    axes[i].tick_params(axis='x', labelsize=13)\n",
    "    axes[i].tick_params(axis='y', labelsize=13)\n",
    "\n",
    "axes[0].set_title(f'Top {N} most common unigrams in Disaster Tweets', fontsize=15)\n",
    "axes[1].set_title(f'Top {N} most common unigrams in Non-disaster Tweets', fontsize=15)\n",
    "\n",
    "plt.show()"
   ]
  },
  {
   "cell_type": "markdown",
   "metadata": {},
   "source": [
    "gerçek felaket tweetlerinde en çok kullanılan kelimeler genellikle felaket ile alakalı terimlerden oluşmaktadır."
   ]
  },
  {
   "cell_type": "code",
   "execution_count": 49,
   "metadata": {},
   "outputs": [
    {
     "data": {
      "text/html": [
       "<div>\n",
       "<style scoped>\n",
       "    .dataframe tbody tr th:only-of-type {\n",
       "        vertical-align: middle;\n",
       "    }\n",
       "\n",
       "    .dataframe tbody tr th {\n",
       "        vertical-align: top;\n",
       "    }\n",
       "\n",
       "    .dataframe thead th {\n",
       "        text-align: right;\n",
       "    }\n",
       "</style>\n",
       "<table border=\"1\" class=\"dataframe\">\n",
       "  <thead>\n",
       "    <tr style=\"text-align: right;\">\n",
       "      <th></th>\n",
       "      <th>C_values</th>\n",
       "      <th>Train Accuracy</th>\n",
       "      <th>Test Accuracy</th>\n",
       "    </tr>\n",
       "  </thead>\n",
       "  <tbody>\n",
       "    <tr>\n",
       "      <th>0</th>\n",
       "      <td>0.001</td>\n",
       "      <td>0.571270</td>\n",
       "      <td>0.570577</td>\n",
       "    </tr>\n",
       "    <tr>\n",
       "      <th>1</th>\n",
       "      <td>0.010</td>\n",
       "      <td>0.725764</td>\n",
       "      <td>0.705765</td>\n",
       "    </tr>\n",
       "    <tr>\n",
       "      <th>2</th>\n",
       "      <td>0.100</td>\n",
       "      <td>0.866534</td>\n",
       "      <td>0.779324</td>\n",
       "    </tr>\n",
       "    <tr>\n",
       "      <th>3</th>\n",
       "      <td>1.000</td>\n",
       "      <td>0.959274</td>\n",
       "      <td>0.783300</td>\n",
       "    </tr>\n",
       "    <tr>\n",
       "      <th>4</th>\n",
       "      <td>10.000</td>\n",
       "      <td>0.988269</td>\n",
       "      <td>0.775348</td>\n",
       "    </tr>\n",
       "    <tr>\n",
       "      <th>5</th>\n",
       "      <td>100.000</td>\n",
       "      <td>0.989597</td>\n",
       "      <td>0.753479</td>\n",
       "    </tr>\n",
       "    <tr>\n",
       "      <th>6</th>\n",
       "      <td>1000.000</td>\n",
       "      <td>0.989597</td>\n",
       "      <td>0.757455</td>\n",
       "    </tr>\n",
       "  </tbody>\n",
       "</table>\n",
       "</div>"
      ],
      "text/plain": [
       "   C_values  Train Accuracy  Test Accuracy\n",
       "0     0.001        0.571270       0.570577\n",
       "1     0.010        0.725764       0.705765\n",
       "2     0.100        0.866534       0.779324\n",
       "3     1.000        0.959274       0.783300\n",
       "4    10.000        0.988269       0.775348\n",
       "5   100.000        0.989597       0.753479\n",
       "6  1000.000        0.989597       0.757455"
      ]
     },
     "metadata": {},
     "output_type": "display_data"
    }
   ],
   "source": [
    "C_values = [0.001,0.01, 0.1,1,10,100, 1000]\n",
    "\n",
    "accuracy_values = pd.DataFrame(columns=['C_values', 'Train Accuracy', 'Test Accuracy'])\n",
    "\n",
    "for c in C_values:\n",
    "    # Apply logistic regression model to training data\n",
    "    lr = LogisticRegression(penalty = 'l2', C = c, random_state = 0, solver='lbfgs')\n",
    "    lr.fit(X_train, y_train)\n",
    "    accuracy_values = accuracy_values.append({'C_values': c,\n",
    "                                              'Train Accuracy': lr.score(X_train, y_train),\n",
    "                                              'Test Accuracy': lr.score(X_test, y_test)\n",
    "                                             }, ignore_index=True)\n",
    "display(accuracy_values) "
   ]
  },
  {
   "cell_type": "markdown",
   "metadata": {},
   "source": [
    "c=1 değeri en optimal accuracysiyi verdi."
   ]
  },
  {
   "cell_type": "code",
   "execution_count": 73,
   "metadata": {},
   "outputs": [
    {
     "name": "stdout",
     "output_type": "stream",
     "text": [
      "Training Logistic_Regression classifier\n",
      "              precision    recall  f1-score   support\n",
      "\n",
      "           0       0.78      0.81      0.79       286\n",
      "           1       0.73      0.69      0.71       217\n",
      "\n",
      "    accuracy                           0.76       503\n",
      "   macro avg       0.75      0.75      0.75       503\n",
      "weighted avg       0.76      0.76      0.76       503\n",
      "\n",
      "\n",
      "Training KNeighborsClassifier classifier\n",
      "              precision    recall  f1-score   support\n",
      "\n",
      "           0       0.65      0.97      0.78       286\n",
      "           1       0.88      0.32      0.47       217\n",
      "\n",
      "    accuracy                           0.69       503\n",
      "   macro avg       0.77      0.64      0.62       503\n",
      "weighted avg       0.75      0.69      0.64       503\n",
      "\n",
      "\n",
      "Training Decision_tree classifier\n",
      "              precision    recall  f1-score   support\n",
      "\n",
      "           0       0.77      0.83      0.80       286\n",
      "           1       0.74      0.67      0.71       217\n",
      "\n",
      "    accuracy                           0.76       503\n",
      "   macro avg       0.76      0.75      0.75       503\n",
      "weighted avg       0.76      0.76      0.76       503\n",
      "\n",
      "\n",
      "Training RandomForestClassifier classifier\n",
      "              precision    recall  f1-score   support\n",
      "\n",
      "           0       0.76      0.86      0.81       286\n",
      "           1       0.78      0.64      0.70       217\n",
      "\n",
      "    accuracy                           0.77       503\n",
      "   macro avg       0.77      0.75      0.76       503\n",
      "weighted avg       0.77      0.77      0.76       503\n",
      "\n",
      "\n"
     ]
    }
   ],
   "source": [
    "from sklearn.naive_bayes import GaussianNB\n",
    "from sklearn.neighbors import KNeighborsClassifier\n",
    "from sklearn.linear_model import SGDClassifier\n",
    "from sklearn.tree import DecisionTreeClassifier\n",
    "from sklearn.metrics import classification_report\n",
    "from sklearn.linear_model import LogisticRegression\n",
    "from sklearn.ensemble import RandomForestClassifier\n",
    "clfs = {\n",
    "    'Logistic_Regression': LogisticRegression(penalty = 'l2', C = 1, random_state = 0, solver='lbfgs'),\n",
    "    'KNeighborsClassifier':KNeighborsClassifier(n_neighbors=5),\n",
    "    'Decision_tree': DecisionTreeClassifier(criterion='entropy'),\n",
    "    'RandomForestClassifier':RandomForestClassifier(n_estimators=25, random_state=2)\n",
    "    \n",
    "}\n",
    "\n",
    "for clf_name in clfs.keys():\n",
    "    print(\"Training\",clf_name,\"classifier\")\n",
    "    clf = clfs[clf_name]\n",
    "    clf.fit(X_train, y_train)\n",
    "    y_predict = clf.predict(X_test)\n",
    "    print(classification_report(y_test, y_predict))\n",
    "    print()"
   ]
  },
  {
   "cell_type": "markdown",
   "metadata": {},
   "source": [
    "tahmin ettiklerimin gerçekten deprem tweeti olup olmadığına önem verdiğimden precison değerinin en yüksek olduğu random forest değerimiz daha iyi bir sonuç verdi."
   ]
  },
  {
   "cell_type": "code",
   "execution_count": 59,
   "metadata": {},
   "outputs": [],
   "source": [
    "from sklearn.decomposition import PCA\n",
    "pca=PCA(n_components=0.8)\n",
    "pca.fit(X)\n",
    "x_pca=pca.transform(X)\n",
    "\n"
   ]
  },
  {
   "cell_type": "code",
   "execution_count": 60,
   "metadata": {},
   "outputs": [
    {
     "data": {
      "text/plain": [
       "((5021, 9939), (5021,))"
      ]
     },
     "execution_count": 60,
     "metadata": {},
     "output_type": "execute_result"
    }
   ],
   "source": [
    "X.shape, data['target'].shape"
   ]
  },
  {
   "cell_type": "code",
   "execution_count": 61,
   "metadata": {},
   "outputs": [
    {
     "name": "stdout",
     "output_type": "stream",
     "text": [
      "sum:  0.8001199643087171\n"
     ]
    },
    {
     "data": {
      "text/plain": [
       "1193"
      ]
     },
     "execution_count": 61,
     "metadata": {},
     "output_type": "execute_result"
    }
   ],
   "source": [
    "print(\"sum: \",sum(pca.explained_variance_ratio_))\n",
    "len(np.cumsum(pca.explained_variance_ratio_))"
   ]
  },
  {
   "cell_type": "code",
   "execution_count": 62,
   "metadata": {},
   "outputs": [
    {
     "data": {
      "text/plain": [
       "(5021, 1193)"
      ]
     },
     "execution_count": 62,
     "metadata": {},
     "output_type": "execute_result"
    }
   ],
   "source": [
    "x_pca.shape"
   ]
  },
  {
   "cell_type": "code",
   "execution_count": 63,
   "metadata": {},
   "outputs": [],
   "source": [
    "X_train_pca, X_test_pca, y_train_pca, y_test_pca=train_test_split(x_pca,data['target'].values,test_size=0.1,random_state=0,shuffle=True) "
   ]
  },
  {
   "cell_type": "code",
   "execution_count": 64,
   "metadata": {},
   "outputs": [
    {
     "data": {
      "text/plain": [
       "LogisticRegression(C=1, random_state=0)"
      ]
     },
     "execution_count": 64,
     "metadata": {},
     "output_type": "execute_result"
    }
   ],
   "source": [
    "from sklearn.model_selection import cross_val_score\n",
    "log_reg=LogisticRegression(penalty = 'l2', C = 1, random_state = 0, solver='lbfgs')\n",
    "log_reg.fit(X_train_pca, y_train_pca)"
   ]
  },
  {
   "cell_type": "code",
   "execution_count": 65,
   "metadata": {},
   "outputs": [
    {
     "data": {
      "text/plain": [
       "LogisticRegression(C=1, random_state=0)"
      ]
     },
     "execution_count": 65,
     "metadata": {},
     "output_type": "execute_result"
    }
   ],
   "source": [
    "log_reg"
   ]
  },
  {
   "cell_type": "code",
   "execution_count": 66,
   "metadata": {},
   "outputs": [
    {
     "name": "stdout",
     "output_type": "stream",
     "text": [
      "[0.78650442 0.77654867 0.78429204 0.7641196  0.79512735]\n"
     ]
    }
   ],
   "source": [
    "print(cross_val_score(log_reg, X_train_pca,y_train_pca, cv=5))"
   ]
  },
  {
   "cell_type": "code",
   "execution_count": 67,
   "metadata": {},
   "outputs": [
    {
     "name": "stdout",
     "output_type": "stream",
     "text": [
      "[0.69306931 0.7029703  0.77227723 0.74       0.7       ]\n"
     ]
    }
   ],
   "source": [
    "print(cross_val_score(log_reg, X_test_pca,y_test_pca, cv=5))"
   ]
  },
  {
   "cell_type": "markdown",
   "metadata": {},
   "source": [
    "Logistic regression ile eğittiğimiz modelimizin performansı cross validation sonucuna göre tesadüf değil çünkü 5 farklı alt küme değerleri birbirine yakın sonuçlar vermektedir."
   ]
  },
  {
   "cell_type": "markdown",
   "metadata": {},
   "source": [
    " lemmatization , Jaccard distance"
   ]
  },
  {
   "cell_type": "code",
   "execution_count": 81,
   "metadata": {},
   "outputs": [
    {
     "data": {
      "text/plain": [
       "RandomForestClassifier(n_estimators=25, random_state=2)"
      ]
     },
     "execution_count": 81,
     "metadata": {},
     "output_type": "execute_result"
    }
   ],
   "source": [
    "from sklearn.ensemble import RandomForestClassifier\n",
    "random_forest=RandomForestClassifier(n_estimators=25, random_state=2)\n",
    "random_forest.fit(X_train_pca, y_train_pca)"
   ]
  },
  {
   "cell_type": "code",
   "execution_count": 82,
   "metadata": {},
   "outputs": [],
   "source": [
    "train_prediction = random_forest.predict(X_train_pca)\n",
    "test_prediction = random_forest.predict(X_test_pca)"
   ]
  },
  {
   "cell_type": "code",
   "execution_count": 83,
   "metadata": {},
   "outputs": [
    {
     "name": "stdout",
     "output_type": "stream",
     "text": [
      "              precision    recall  f1-score   support\n",
      "\n",
      "           0       0.70      0.81      0.75       286\n",
      "           1       0.68      0.54      0.61       217\n",
      "\n",
      "    accuracy                           0.69       503\n",
      "   macro avg       0.69      0.68      0.68       503\n",
      "weighted avg       0.69      0.69      0.69       503\n",
      "\n"
     ]
    }
   ],
   "source": [
    "print(classification_report(y_test_pca, test_prediction))"
   ]
  },
  {
   "cell_type": "markdown",
   "metadata": {},
   "source": [
    "Training RandomForestClassifier classifier\n",
    "              precision    recall  f1-score   support\n",
    "\n",
    "           0       0.76      0.86      0.81       286\n",
    "           1       0.78      0.64      0.70       217\n",
    "\n",
    "    accuracy                           0.77       503\n",
    "   macro avg       0.77      0.75      0.76       503\n",
    "weighted avg       0.77      0.77      0.76       503"
   ]
  },
  {
   "cell_type": "markdown",
   "metadata": {},
   "source": [
    "## SMOTE"
   ]
  },
  {
   "cell_type": "code",
   "execution_count": 84,
   "metadata": {},
   "outputs": [],
   "source": [
    "from imblearn.over_sampling import SMOTE"
   ]
  },
  {
   "cell_type": "code",
   "execution_count": 88,
   "metadata": {},
   "outputs": [],
   "source": [
    "smt=SMOTE(random_state=0)\n",
    "smote_test, smote_target = smt.fit_sample(X_test_pca, y_test_pca)"
   ]
  },
  {
   "cell_type": "code",
   "execution_count": 90,
   "metadata": {},
   "outputs": [
    {
     "name": "stdout",
     "output_type": "stream",
     "text": [
      "              precision    recall  f1-score   support\n",
      "\n",
      "           0       0.61      0.81      0.69       286\n",
      "           1       0.71      0.48      0.57       286\n",
      "\n",
      "    accuracy                           0.64       572\n",
      "   macro avg       0.66      0.64      0.63       572\n",
      "weighted avg       0.66      0.64      0.63       572\n",
      "\n"
     ]
    }
   ],
   "source": [
    "test_prediction = random_forest.predict(smote_test)\n",
    "print(classification_report(smote_target, test_prediction))"
   ]
  },
  {
   "cell_type": "markdown",
   "metadata": {},
   "source": [
    "## SVM"
   ]
  },
  {
   "cell_type": "code",
   "execution_count": 91,
   "metadata": {},
   "outputs": [
    {
     "data": {
      "text/plain": [
       "SVC(C=1, degree=6)"
      ]
     },
     "execution_count": 91,
     "metadata": {},
     "output_type": "execute_result"
    }
   ],
   "source": [
    "from sklearn.svm import SVC\n",
    "svc = SVC(kernel='rbf', C=1,degree=6)\n",
    "svc.fit(X_train_pca, y_train_pca)\n",
    "#[0.1, 1, 10, 100, 1000, 10000]\n",
    "   "
   ]
  },
  {
   "cell_type": "code",
   "execution_count": 92,
   "metadata": {},
   "outputs": [
    {
     "name": "stdout",
     "output_type": "stream",
     "text": [
      "Accuracy Rate of SVC: 0.7932\n"
     ]
    }
   ],
   "source": [
    "from sklearn.metrics import accuracy_score\n",
    "y_pred= svc.predict(X_test_pca)\n",
    "print(\"Accuracy Rate of SVC: {:.4f}\".format(accuracy_score(y_test_pca, y_pred)))"
   ]
  },
  {
   "cell_type": "code",
   "execution_count": 103,
   "metadata": {},
   "outputs": [
    {
     "name": "stdout",
     "output_type": "stream",
     "text": [
      "Precision Rate of SVC: 0.8229\n"
     ]
    }
   ],
   "source": [
    " from sklearn.metrics import precision_score\n",
    " print(\"Precision Rate of SVC: {:.4f}\".format(precision_score(y_test_pca, y_pred)))   "
   ]
  },
  {
   "cell_type": "markdown",
   "metadata": {},
   "source": [
    "## XGBOOST"
   ]
  },
  {
   "cell_type": "code",
   "execution_count": 95,
   "metadata": {},
   "outputs": [],
   "source": [
    "import xgboost as xgb\n",
    "dmatrix = xgb.DMatrix(data = X_train_pca, label=y_train_pca)\n",
    "#DM_train = xgb.DMatrix(data = X_train_pca, label=y_train)\n",
    "#DM_test =  xgb.DMatrix(data = X_test, label=y_test)"
   ]
  },
  {
   "cell_type": "code",
   "execution_count": 96,
   "metadata": {},
   "outputs": [
    {
     "data": {
      "text/plain": [
       "XGBClassifier(base_score=0.5, booster='gbtree', colsample_bylevel=1,\n",
       "              colsample_bynode=1, colsample_bytree=0.8, gamma=0, gpu_id=-1,\n",
       "              importance_type='gain', interaction_constraints='',\n",
       "              learning_rate=0.1, max_delta_step=0, max_depth=5,\n",
       "              min_child_weight=1, missing=nan, monotone_constraints='()',\n",
       "              n_estimators=1000, n_jobs=4, nthread=4, num_parallel_tree=1,\n",
       "              random_state=27, reg_alpha=0, reg_lambda=1, scale_pos_weight=1,\n",
       "              seed=27, subsample=0.8, tree_method='exact',\n",
       "              validate_parameters=1, verbosity=None)"
      ]
     },
     "execution_count": 96,
     "metadata": {},
     "output_type": "execute_result"
    }
   ],
   "source": [
    "model=xgb.XGBClassifier(learning_rate =0.1,n_estimators=1000,max_depth=5,min_child_weight=1,gamma=0,subsample=0.8,colsample_bytree=0.8,\n",
    "                        objective= 'binary:logistic',nthread=4,scale_pos_weight=1,seed=27)\n",
    "model.fit(X_train_pca, y_train_pca)"
   ]
  },
  {
   "cell_type": "code",
   "execution_count": 97,
   "metadata": {},
   "outputs": [
    {
     "name": "stdout",
     "output_type": "stream",
     "text": [
      "Accuracy value of XGBOOST:  0.7833001988071571\n"
     ]
    }
   ],
   "source": [
    "print('Accuracy value of XGBOOST: ',model.score(X_test_pca ,y_test_pca))"
   ]
  },
  {
   "cell_type": "code",
   "execution_count": 98,
   "metadata": {},
   "outputs": [],
   "source": [
    "xgb_param = model.get_xgb_params()\n",
    "\n",
    "#params = {\"objective\":\"reg:logistic\", \"max_depth\":5, \"silent\":0}"
   ]
  },
  {
   "cell_type": "code",
   "execution_count": 99,
   "metadata": {},
   "outputs": [
    {
     "data": {
      "text/html": [
       "<div>\n",
       "<style scoped>\n",
       "    .dataframe tbody tr th:only-of-type {\n",
       "        vertical-align: middle;\n",
       "    }\n",
       "\n",
       "    .dataframe tbody tr th {\n",
       "        vertical-align: top;\n",
       "    }\n",
       "\n",
       "    .dataframe thead th {\n",
       "        text-align: right;\n",
       "    }\n",
       "</style>\n",
       "<table border=\"1\" class=\"dataframe\">\n",
       "  <thead>\n",
       "    <tr style=\"text-align: right;\">\n",
       "      <th></th>\n",
       "      <th>train-error-mean</th>\n",
       "      <th>train-error-std</th>\n",
       "      <th>test-error-mean</th>\n",
       "      <th>test-error-std</th>\n",
       "    </tr>\n",
       "  </thead>\n",
       "  <tbody>\n",
       "    <tr>\n",
       "      <th>0</th>\n",
       "      <td>0.247842</td>\n",
       "      <td>0.002299</td>\n",
       "      <td>0.301232</td>\n",
       "      <td>0.019951</td>\n",
       "    </tr>\n",
       "    <tr>\n",
       "      <th>1</th>\n",
       "      <td>0.230245</td>\n",
       "      <td>0.005254</td>\n",
       "      <td>0.290388</td>\n",
       "      <td>0.013302</td>\n",
       "    </tr>\n",
       "    <tr>\n",
       "      <th>2</th>\n",
       "      <td>0.221834</td>\n",
       "      <td>0.009078</td>\n",
       "      <td>0.278878</td>\n",
       "      <td>0.016610</td>\n",
       "    </tr>\n",
       "    <tr>\n",
       "      <th>3</th>\n",
       "      <td>0.214641</td>\n",
       "      <td>0.007254</td>\n",
       "      <td>0.276221</td>\n",
       "      <td>0.018264</td>\n",
       "    </tr>\n",
       "    <tr>\n",
       "      <th>4</th>\n",
       "      <td>0.210048</td>\n",
       "      <td>0.010404</td>\n",
       "      <td>0.280428</td>\n",
       "      <td>0.015319</td>\n",
       "    </tr>\n",
       "    <tr>\n",
       "      <th>...</th>\n",
       "      <td>...</td>\n",
       "      <td>...</td>\n",
       "      <td>...</td>\n",
       "      <td>...</td>\n",
       "    </tr>\n",
       "    <tr>\n",
       "      <th>995</th>\n",
       "      <td>0.011233</td>\n",
       "      <td>0.000512</td>\n",
       "      <td>0.229303</td>\n",
       "      <td>0.010767</td>\n",
       "    </tr>\n",
       "    <tr>\n",
       "      <th>996</th>\n",
       "      <td>0.011233</td>\n",
       "      <td>0.000512</td>\n",
       "      <td>0.228862</td>\n",
       "      <td>0.010340</td>\n",
       "    </tr>\n",
       "    <tr>\n",
       "      <th>997</th>\n",
       "      <td>0.011233</td>\n",
       "      <td>0.000512</td>\n",
       "      <td>0.228639</td>\n",
       "      <td>0.009995</td>\n",
       "    </tr>\n",
       "    <tr>\n",
       "      <th>998</th>\n",
       "      <td>0.011233</td>\n",
       "      <td>0.000512</td>\n",
       "      <td>0.228418</td>\n",
       "      <td>0.009597</td>\n",
       "    </tr>\n",
       "    <tr>\n",
       "      <th>999</th>\n",
       "      <td>0.011233</td>\n",
       "      <td>0.000512</td>\n",
       "      <td>0.227311</td>\n",
       "      <td>0.009586</td>\n",
       "    </tr>\n",
       "  </tbody>\n",
       "</table>\n",
       "<p>1000 rows × 4 columns</p>\n",
       "</div>"
      ],
      "text/plain": [
       "     train-error-mean  train-error-std  test-error-mean  test-error-std\n",
       "0            0.247842         0.002299         0.301232        0.019951\n",
       "1            0.230245         0.005254         0.290388        0.013302\n",
       "2            0.221834         0.009078         0.278878        0.016610\n",
       "3            0.214641         0.007254         0.276221        0.018264\n",
       "4            0.210048         0.010404         0.280428        0.015319\n",
       "..                ...              ...              ...             ...\n",
       "995          0.011233         0.000512         0.229303        0.010767\n",
       "996          0.011233         0.000512         0.228862        0.010340\n",
       "997          0.011233         0.000512         0.228639        0.009995\n",
       "998          0.011233         0.000512         0.228418        0.009597\n",
       "999          0.011233         0.000512         0.227311        0.009586\n",
       "\n",
       "[1000 rows x 4 columns]"
      ]
     },
     "metadata": {},
     "output_type": "display_data"
    }
   ],
   "source": [
    "cv = xgb.cv(dtrain=dmatrix, params=xgb_param,\n",
    "                    num_boost_round=model.get_params()['n_estimators'], metrics=\"error\", nfold=5, as_pandas=True, seed=123)\n",
    "display(cv)"
   ]
  },
  {
   "cell_type": "code",
   "execution_count": 101,
   "metadata": {},
   "outputs": [
    {
     "name": "stdout",
     "output_type": "stream",
     "text": [
      "Accuracy Value: 0.989\n"
     ]
    }
   ],
   "source": [
    "print('Accuracy Value of train: {:.3f}'.format((1-cv[\"train-error-mean\"]).max()))"
   ]
  },
  {
   "cell_type": "code",
   "execution_count": 102,
   "metadata": {},
   "outputs": [
    {
     "name": "stdout",
     "output_type": "stream",
     "text": [
      "Accuracy Value: 0.778\n"
     ]
    }
   ],
   "source": [
    "print('Accuracy Value of test: {:.3f}'.format((1-cv[\"test-error-mean\"]).max()))"
   ]
  },
  {
   "cell_type": "markdown",
   "metadata": {},
   "source": [
    "## LIGHTGBM"
   ]
  },
  {
   "cell_type": "code",
   "execution_count": 57,
   "metadata": {},
   "outputs": [
    {
     "name": "stdout",
     "output_type": "stream",
     "text": [
      "Requirement already satisfied: lightgbm in e:\\user\\anaconda\\lib\\site-packages (3.0.0)\n",
      "Requirement already satisfied: scikit-learn!=0.22.0 in e:\\user\\anaconda\\lib\\site-packages (from lightgbm) (0.23.1)\n",
      "Requirement already satisfied: scipy in e:\\user\\anaconda\\lib\\site-packages (from lightgbm) (1.4.1)\n",
      "Requirement already satisfied: numpy in e:\\user\\anaconda\\lib\\site-packages (from lightgbm) (1.18.5)\n",
      "Requirement already satisfied: threadpoolctl>=2.0.0 in e:\\user\\anaconda\\lib\\site-packages (from scikit-learn!=0.22.0->lightgbm) (2.1.0)\n",
      "Requirement already satisfied: joblib>=0.11 in e:\\user\\anaconda\\lib\\site-packages (from scikit-learn!=0.22.0->lightgbm) (0.16.0)\n"
     ]
    }
   ],
   "source": [
    "!pip install lightgbm"
   ]
  },
  {
   "cell_type": "code",
   "execution_count": 104,
   "metadata": {},
   "outputs": [],
   "source": [
    "import lightgbm as lgb"
   ]
  },
  {
   "cell_type": "code",
   "execution_count": 105,
   "metadata": {},
   "outputs": [],
   "source": [
    "params = {'boosting_type' : 'gbdt',\n",
    "          'objective' : 'binary',\n",
    "          'metric' : 'binary_logloss',\n",
    "          'sub_feature' : 0.5,\n",
    "          'num_leaves' :  10,\n",
    "          'min_data' : 50,\n",
    "          'max_depth' : 10}"
   ]
  },
  {
   "cell_type": "code",
   "execution_count": 106,
   "metadata": {},
   "outputs": [],
   "source": [
    "d_train = lgb.Dataset(data = X_train_pca, label=y_train_pca)"
   ]
  },
  {
   "cell_type": "code",
   "execution_count": 107,
   "metadata": {},
   "outputs": [
    {
     "name": "stdout",
     "output_type": "stream",
     "text": [
      "[LightGBM] [Info] Number of positive: 1937, number of negative: 2581\n",
      "[LightGBM] [Warning] Auto-choosing col-wise multi-threading, the overhead of testing was 0.056214 seconds.\n",
      "You can set `force_col_wise=true` to remove the overhead.\n",
      "[LightGBM] [Info] Total Bins 304214\n",
      "[LightGBM] [Info] Number of data points in the train set: 4518, number of used features: 1193\n",
      "[LightGBM] [Info] [binary:BoostFromScore]: pavg=0.428730 -> initscore=-0.287037\n",
      "[LightGBM] [Info] Start training from score -0.287037\n"
     ]
    }
   ],
   "source": [
    "lgb_model = lgb.train(params, d_train, num_boost_round = 100)"
   ]
  },
  {
   "cell_type": "code",
   "execution_count": 108,
   "metadata": {},
   "outputs": [],
   "source": [
    "y_predict=lgb_model.predict(X_test_pca)\n",
    "y_predict = [0 if y_predict < 0.5 else 1 for y_predict in y_predict]"
   ]
  },
  {
   "cell_type": "code",
   "execution_count": 109,
   "metadata": {},
   "outputs": [
    {
     "name": "stdout",
     "output_type": "stream",
     "text": [
      "Accuracy Value with LIGHTGBM: 0.771\n"
     ]
    }
   ],
   "source": [
    "from sklearn.metrics import accuracy_score\n",
    "accuracy=accuracy_score(y_predict,y_test)\n",
    "print('Accuracy Value with LIGHTGBM: {:.3f}'.format(accuracy))"
   ]
  },
  {
   "cell_type": "code",
   "execution_count": 110,
   "metadata": {},
   "outputs": [
    {
     "name": "stdout",
     "output_type": "stream",
     "text": [
      "Accuracy Value with LIGHTGBM: 0.823\n"
     ]
    }
   ],
   "source": [
    "print('Accuracy Value with LIGHTGBM: {:.3f}'.format(precision_score(y_test_pca, y_pred)))"
   ]
  },
  {
   "cell_type": "code",
   "execution_count": null,
   "metadata": {},
   "outputs": [],
   "source": []
  }
 ],
 "metadata": {
  "kernelspec": {
   "display_name": "Python 3",
   "language": "python",
   "name": "python3"
  },
  "language_info": {
   "codemirror_mode": {
    "name": "ipython",
    "version": 3
   },
   "file_extension": ".py",
   "mimetype": "text/x-python",
   "name": "python",
   "nbconvert_exporter": "python",
   "pygments_lexer": "ipython3",
   "version": "3.8.3"
  }
 },
 "nbformat": 4,
 "nbformat_minor": 4
}
